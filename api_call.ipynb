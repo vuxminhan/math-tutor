{
 "cells": [
  {
   "cell_type": "code",
   "execution_count": null,
   "metadata": {},
   "outputs": [
    {
     "name": "stderr",
     "output_type": "stream",
     "text": [
      "<>:16: SyntaxWarning: invalid escape sequence '\\l'\n",
      "<>:16: SyntaxWarning: invalid escape sequence '\\l'\n",
      "/tmp/ipykernel_61237/1949216534.py:16: SyntaxWarning: invalid escape sequence '\\l'\n",
      "  question = ''' ## 문제 11\n"
     ]
    }
   ],
   "source": [
    "import os\n",
    "import base64\n",
    "import openai\n",
    "from dotenv import load_dotenv\n",
    "\n",
    "# 1) Load environment variables from the .env file\n",
    "load_dotenv()\n",
    "\n",
    "# 2) Get your API key from the .env\n",
    "openai.api_key = os.getenv(\"OPENAI_API_KEY\")\n",
    "\n",
    "# 3) Read and encode your image to base64\n",
    "\n",
    "question = ''' ## 문제 11\n",
    "함수 $y = f(x)$의 그래프가 그림과 같다.\n",
    "\n",
    "![A_11](../Images/A_11.png)\n",
    "\n",
    "$\\lim\\limits_{x \\to -1^+} f(x) + \\lim\\limits_{x \\to 0^+} f(x)$의 값은? **[3점]**\n",
    "\n",
    "1. 1\n",
    "2. 2\n",
    "3. 3\n",
    "4. 4\n",
    "5. 5 '''\n",
    "with open(\"/home/alex/Downloads/apps (1)/apps/mathematics-retry-o1/13-11-08/Images/A_11.png\", \"rb\") as image_file:\n",
    "    image_data = image_file.read()\n",
    "    encoded_image = base64.b64encode(image_data).decode(\"utf-8\")"
   ]
  },
  {
   "cell_type": "code",
   "execution_count": 17,
   "metadata": {},
   "outputs": [],
   "source": [
    "from openai import OpenAI\n",
    "client = OpenAI()\n",
    "\n",
    "response = client.chat.completions.create(\n",
    "  model=\"gpt-4o\",\n",
    "  messages=[\n",
    "    {\n",
    "      \"role\": \"system\",\n",
    "      \"content\": [\n",
    "        {\n",
    "          \"type\": \"text\",\n",
    "          \"text\": \"You are a math expert. You will be given math problem that might contain an image. Follow the instructions carefully.\\n\\nPlease reason step by step, and put your final answer within \\\\boxed{}. Each step is placed on a new line, using the following format:\\nStep X [Mathematical theorem/basis used]: Detailed solution steps.\\nAnswer: \\\\boxed{}\\n\\nAssume there is an image here containing image demonstrations. Provide the solution in both Korean and English. The Korean solution should start with [KR], and the English solution should start with [EN].\\nUse the following example as the template.\\n\\nInput:\\n## 문제 4\\n그래프와 그 그래프의 각 꼭짓점 사이의 연결 관계를 나타내는 행렬이 다음과 같을 때, $a+b+c+d+e$의 값은? **[3점]**\\n\\n![A_4](../Images/A_4.png)\\n\\n1. 1  \\n2. 2  \\n3. 3  \\n4. 4  \\n5. 5\\n\\nOutput:\\n[KR]  \\nStep 1 [인접 행렬의 대각 원소 성질 사용]:  \\n- 단순 그래프의 인접 행렬에서는 자기 자신과의 연결(대각 원소)이 0이므로, 행렬에서 \\\\(c\\\\)가 위치한 대각 원소는 0이 된다. 따라서 \\\\(c = 0\\\\).  \\n\\nStep 2 [그래프 도식 판독]:  \\n- 그림에서 \\\\(A\\\\)와 \\\\(E\\\\)를 직접 잇는 간선이 보이지 않으므로 \\\\(a = 0\\\\).  \\n- \\\\(B\\\\)와 \\\\(D\\\\)를 잇는 대각선이 존재하므로 \\\\(b = 1\\\\).  \\n- 그래프가 무방향이므로 \\\\(b = 1\\\\)이면 \\\\(d = 1\\\\) 역시 성립한다.  \\n- \\\\(E\\\\)와 \\\\(A\\\\)를 잇는 간선이 보이지 않으므로 \\\\(e = 0\\\\).  \\n\\nStep 3 [값의 합 계산]:  \\n\\\\[\\na + b + c + d + e \\\\;=\\\\; 0 + 1 + 0 + 1 + 0 \\\\;=\\\\; 2.\\n\\\\]  \\n\\nAnswer: \\\\(\\\\boxed{2}\\\\)  \\n\\n[EN]  \\nStep 1 [Using the property of diagonal entries in an adjacency matrix]:  \\n- In a simple graph, each diagonal entry (which indicates self-connections) must be 0. Hence, the diagonal entry \\\\(c\\\\) is 0.  \\n\\nStep 2 [Reading the given graph]:  \\n- Since there is no direct edge between \\\\(A\\\\) and \\\\(E\\\\) in the diagram, \\\\(a = 0\\\\).  \\n- There is a diagonal edge between \\\\(B\\\\) and \\\\(D\\\\), so \\\\(b = 1\\\\).  \\n- Because this is an undirected graph, \\\\(b = 1\\\\) implies \\\\(d = 1\\\\).  \\n- There is no direct edge between \\\\(E\\\\) and \\\\(A\\\\) in the diagram, so \\\\(e = 0\\\\).  \\n\\nStep 3 [Summation]:  \\n\\\\[\\na + b + c + d + e \\\\;=\\\\; 0 + 1 + 0 + 1 + 0 \\\\;=\\\\; 2.\\n\\\\]  \\n\\nAnswer: \\\\(\\\\boxed{2}\\\\)  \\n\"\n",
    "        }\n",
    "      ]\n",
    "    },\n",
    "    {\n",
    "      \"role\": \"user\",\n",
    "      \"content\": [\n",
    "        {\n",
    "          \"type\": \"text\",\n",
    "          \"text\": question\n",
    "        },\n",
    "        {\n",
    "          \"type\": \"image_url\",\n",
    "          \"image_url\": {\n",
    "            \"url\":  f\"data:image/png;base64,{encoded_image}\"\n",
    "          }\n",
    "        }\n",
    "      ]\n",
    "    },\n",
    "    {\n",
    "      \"role\": \"assistant\",\n",
    "      \"content\": [\n",
    "        {\n",
    "          \"type\": \"text\",\n",
    "          \"text\": \"{\\\"steps\\\":[{\\\"output\\\":\\\"[KR]\\\",\\\"explanation\\\":\\\"한국어 설명을 시작합니다.\\\"},{\\\"output\\\":\\\"Step 1 [극한 값 탐색]:\\\",\\\"explanation\\\":\\\"그래프에서, $x$가 $-1$로 갈 때의 오른쪽 극한 $\\\\frac{1}{x \\\\\\\\to -1^+} f(x)$를 찾는다.\\\"},{\\\"output\\\":\\\"- $x \\\\\\\\to -1^+$에서 $f(x)$는 2로 수렴한다. 따라서, $\\\\\\\\lim_{x \\\\\\\\to -1^+} f(x) = 2$이다.\\\",\\\"explanation\\\":\\\"그래프를 참고하여 오른쪽 극한 값을 결정한다.\\\"},{\\\"output\\\":\\\"Step 2 [극한 값 탐색]:\\\",\\\"explanation\\\":\\\"그래프에서, $x$가 0으로 갈 때의 오른쪽 극한 $\\\\frac{1}{x \\\\\\\\to 0^+} f(x)$를 찾는다.\\\"},{\\\"output\\\":\\\"- $x \\\\\\\\to 0^+$에서 $f(x)$는 3으로 수렴한다. 따라서, $\\\\\\\\lim_{x \\\\\\\\to 0^+} f(x) = 3$이다.\\\",\\\"explanation\\\":\\\"그래프를 참고하여 오른쪽 극한 값을 결정한다.\\\"},{\\\"output\\\":\\\"Step 3 [극한 값의 합 계산]:\\\",\\\"explanation\\\":\\\"각각의 값을 더한다.\\\"},{\\\"output\\\":\\\"\\\\\\\\[\\\\\\\\lim_{x \\\\\\\\to -1^+} f(x) + \\\\\\\\lim_{x \\\\\\\\to 0^+} f(x) = 2 + 3 = 5.\\\\\\\\]\\\",\\\"explanation\\\":\\\"두 극한 값을 단순히 더한다.\\\"},{\\\"output\\\":\\\"Answer: \\\\\\\\boxed{5}\\\",\\\"explanation\\\":\\\"극한 값의 합을 최종답으로 반환한다.\\\"},{\\\"output\\\":\\\"[EN]\\\",\\\"explanation\\\":\\\"Begin the explanation in English.\\\"},{\\\"output\\\":\\\"Step 1 [Finding the limit]:\\\",\\\"explanation\\\":\\\"Examine the graph to find the right-hand limit as $x$ approaches $-1$, denoted as $\\\\\\\\lim_{x \\\\\\\\to -1^+} f(x)$.\\\"},{\\\"output\\\":\\\"- As $x \\\\\\\\to -1^+$, $f(x)$ approaches 2. Hence, $\\\\\\\\lim_{x \\\\\\\\to -1^+} f(x) = 2$.\\\",\\\"explanation\\\":\\\"Determine the right-hand limit value from the graph.\\\"},{\\\"output\\\":\\\"Step 2 [Finding the limit]:\\\",\\\"explanation\\\":\\\"Examine the graph to find the right-hand limit as $x$ approaches 0, denoted as $\\\\\\\\lim_{x \\\\\\\\to 0^+} f(x)$.\\\"},{\\\"output\\\":\\\"- As $x \\\\\\\\to 0^+$, $f(x)$ approaches 3. Hence, $\\\\\\\\lim_{x \\\\\\\\to 0^+} f(x) = 3$.\\\",\\\"explanation\\\":\\\"Determine the right-hand limit value from the graph.\\\"},{\\\"output\\\":\\\"Step 3 [Calculating the sum of limits]:\\\",\\\"explanation\\\":\\\"Add the values found.\\\"},{\\\"output\\\":\\\"\\\\\\\\[\\\\\\\\lim_{x \\\\\\\\to -1^+} f(x) + \\\\\\\\lim_{x \\\\\\\\to 0^+} f(x) = 2 + 3 = 5.\\\\\\\\]\\\",\\\"explanation\\\":\\\"Simply add the two limit values.\\\"},{\\\"output\\\":\\\"Answer: \\\\\\\\boxed{5}\\\",\\\"explanation\\\":\\\"Provide the sum of the limits as the final answer.\\\"}],\\\"final_answer\\\":\\\"\\\\\\\\boxed{5}\\\"}\"\n",
    "        }\n",
    "      ]\n",
    "    }\n",
    "  ],\n",
    "  response_format={\n",
    "    \"type\": \"json_schema\",\n",
    "    \"json_schema\": {\n",
    "      \"name\": \"math_response\",\n",
    "      \"schema\": {\n",
    "        \"type\": \"object\",\n",
    "        \"required\": [\n",
    "          \"steps\",\n",
    "          \"final_answer\"\n",
    "        ],\n",
    "        \"properties\": {\n",
    "          \"steps\": {\n",
    "            \"type\": \"array\",\n",
    "            \"items\": {\n",
    "              \"type\": \"object\",\n",
    "              \"required\": [\n",
    "                \"explanation\",\n",
    "                \"output\"\n",
    "              ],\n",
    "              \"properties\": {\n",
    "                \"output\": {\n",
    "                  \"type\": \"string\"\n",
    "                },\n",
    "                \"explanation\": {\n",
    "                  \"type\": \"string\"\n",
    "                }\n",
    "              },\n",
    "              \"additionalProperties\": False\n",
    "            }\n",
    "          },\n",
    "          \"final_answer\": {\n",
    "            \"type\": \"string\"\n",
    "          }\n",
    "        },\n",
    "        \"additionalProperties\": False\n",
    "      },\n",
    "      \"strict\": True\n",
    "    }\n",
    "  },\n",
    "  temperature=1,\n",
    "  max_completion_tokens=10000,\n",
    "  top_p=1,\n",
    "  frequency_penalty=0,\n",
    "  presence_penalty=0\n",
    ")"
   ]
  },
  {
   "cell_type": "markdown",
   "metadata": {},
   "source": [
    "exhibit inconsistencies in the output type "
   ]
  },
  {
   "cell_type": "code",
   "execution_count": 18,
   "metadata": {},
   "outputs": [
    {
     "data": {
      "text/plain": [
       "ChatCompletion(id='chatcmpl-AoXe6B7MiGm8vdQwI7tKAm4dcnBQI', choices=[Choice(finish_reason='stop', index=0, logprobs=None, message=ChatCompletionMessage(content='{\"steps\":[{\"output\":\"[KR]\",\"explanation\":\"한국어 설명을 시작합니다.\"},{\"output\":\"Step 1 [극한 값 탐색]:\",\"explanation\":\"그래프에서, $x$가 $-1$로 갈 때의 오른쪽 극한 $\\\\\\\\lim_{x \\\\\\\\to -1^+} f(x)$를 찾는다.\"},{\"output\":\"- $x \\\\\\\\to -1^+$에서 $f(x)$는 2로 수렴한다. 따라서, $\\\\\\\\lim_{x \\\\\\\\to -1^+} f(x) = 2$이다.\",\"explanation\":\"그래프를 참고하여 오른쪽 극한 값을 결정한다.\"},{\"output\":\"Step 2 [극한 값 탐색]:\",\"explanation\":\"그래프에서, $x$가 0으로 갈 때의 오른쪽 극한 $\\\\\\\\lim_{x \\\\\\\\to 0^+} f(x)$를 찾는다.\"},{\"output\":\"- $x \\\\\\\\to 0^+$에서 $f(x)$는 3으로 수렴한다. 따라서, $\\\\\\\\lim_{x \\\\\\\\to 0^+} f(x) = 3$이다.\",\"explanation\":\"그래프를 참고하여 오른쪽 극한 값을 결정한다.\"},{\"output\":\"Step 3 [극한 값의 합 계산]:\",\"explanation\":\"각각의 값을 더한다.\"},{\"output\":\"\\\\\\\\[\\\\\\\\lim_{x \\\\\\\\to -1^+} f(x) + \\\\\\\\lim_{x \\\\\\\\to 0^+} f(x) = 2 + 3 = 5.\\\\\\\\]\",\"explanation\":\"두 극한 값을 단순히 더한다.\"},{\"output\":\"Answer: \\\\\\\\boxed{5}\",\"explanation\":\"극한 값의 합을 최종답으로 반환한다.\"},{\"output\":\"[EN]\",\"explanation\":\"Begin the explanation in English.\"},{\"output\":\"Step 1 [Finding the limit]:\",\"explanation\":\"Examine the graph to find the right-hand limit as $x$ approaches $-1$, denoted as $\\\\\\\\lim_{x \\\\\\\\to -1^+} f(x)$.\"},{\"output\":\"- As $x \\\\\\\\to -1^+$, $f(x)$ approaches 2. Hence, $\\\\\\\\lim_{x \\\\\\\\to -1^+} f(x) = 2$.\",\"explanation\":\"Determine the right-hand limit value from the graph.\"},{\"output\":\"Step 2 [Finding the limit]:\",\"explanation\":\"Examine the graph to find the right-hand limit as $x$ approaches 0, denoted as $\\\\\\\\lim_{x \\\\\\\\to 0^+} f(x)$.\"},{\"output\":\"- As $x \\\\\\\\to 0^+$, $f(x)$ approaches 3. Hence, $\\\\\\\\lim_{x \\\\\\\\to 0^+} f(x) = 3$.\",\"explanation\":\"Determine the right-hand limit value from the graph.\"},{\"output\":\"Step 3 [Calculating the sum of limits]:\",\"explanation\":\"Add the values found.\"},{\"output\":\"\\\\\\\\[\\\\\\\\lim_{x \\\\\\\\to -1^+} f(x) + \\\\\\\\lim_{x \\\\\\\\to 0^+} f(x) = 2 + 3 = 5.\\\\\\\\]\",\"explanation\":\"Simply add the two limit values.\"},{\"output\":\"Answer: \\\\\\\\boxed{5}\",\"explanation\":\"Provide the sum of the limits as the final answer.\"}],\"final_answer\":\"\\\\\\\\boxed{5}\"}', refusal=None, role='assistant', audio=None, function_call=None, tool_calls=None))], created=1736609098, model='gpt-4o-2024-08-06', object='chat.completion', service_tier='default', system_fingerprint='fp_b7d65f1a5b', usage=CompletionUsage(completion_tokens=722, prompt_tokens=2059, total_tokens=2781, completion_tokens_details=CompletionTokensDetails(accepted_prediction_tokens=0, audio_tokens=0, reasoning_tokens=0, rejected_prediction_tokens=0), prompt_tokens_details=PromptTokensDetails(audio_tokens=0, cached_tokens=0)))"
      ]
     },
     "execution_count": 18,
     "metadata": {},
     "output_type": "execute_result"
    }
   ],
   "source": [
    "response"
   ]
  },
  {
   "cell_type": "code",
   "execution_count": 1,
   "metadata": {},
   "outputs": [
    {
     "ename": "NameError",
     "evalue": "name 'response' is not defined",
     "output_type": "error",
     "traceback": [
      "\u001b[0;31m---------------------------------------------------------------------------\u001b[0m",
      "\u001b[0;31mNameError\u001b[0m                                 Traceback (most recent call last)",
      "Cell \u001b[0;32mIn[1], line 3\u001b[0m\n\u001b[1;32m      1\u001b[0m \u001b[38;5;66;03m# format the response\u001b[39;00m\n\u001b[1;32m      2\u001b[0m \u001b[38;5;28;01mimport\u001b[39;00m\u001b[38;5;250m \u001b[39m\u001b[38;5;21;01mjson\u001b[39;00m\n\u001b[0;32m----> 3\u001b[0m response_json \u001b[38;5;241m=\u001b[39m json\u001b[38;5;241m.\u001b[39mloads(\u001b[43mresponse\u001b[49m\u001b[38;5;241m.\u001b[39mbody)\n\u001b[1;32m      4\u001b[0m response_json\n",
      "\u001b[0;31mNameError\u001b[0m: name 'response' is not defined"
     ]
    }
   ],
   "source": [
    "# format the response\n",
    "import json\n",
    "response_json = json.loads(response.body)\n",
    "response_json\n"
   ]
  },
  {
   "cell_type": "code",
   "execution_count": null,
   "metadata": {},
   "outputs": [],
   "source": []
  }
 ],
 "metadata": {
  "kernelspec": {
   "display_name": "base",
   "language": "python",
   "name": "python3"
  },
  "language_info": {
   "codemirror_mode": {
    "name": "ipython",
    "version": 3
   },
   "file_extension": ".py",
   "mimetype": "text/x-python",
   "name": "python",
   "nbconvert_exporter": "python",
   "pygments_lexer": "ipython3",
   "version": "3.12.2"
  }
 },
 "nbformat": 4,
 "nbformat_minor": 2
}
